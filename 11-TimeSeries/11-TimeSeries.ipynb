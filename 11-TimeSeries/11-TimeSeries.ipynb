{
 "cells": [
  {
   "cell_type": "markdown",
   "metadata": {},
   "source": [
    "#### Chapter 11: TimeSeries\n",
    "###### Most if not all is shamelessly lifted from other googled stuffs... try to solve without visiting the various sites\n",
    "    But if you need some tips(like me) --> https://www.dataquest.io/blog/tutorial-time-series-analysis-with-pandas/"
   ]
  },
  {
   "cell_type": "markdown",
   "metadata": {},
   "source": [
    "Pull in the opsd_germany_daily.csv\n",
    "The data set includes country-wide totals of \n",
    "electricity consumption, wind power production, and solar power production for 2006-2017. \n",
    "Verify shape as (4383,5)"
   ]
  },
  {
   "cell_type": "code",
   "execution_count": null,
   "metadata": {},
   "outputs": [],
   "source": []
  },
  {
   "cell_type": "markdown",
   "metadata": {},
   "source": [
    "A useful aspect of a DatetimeIndex is that the individual date/time components are all available as attributes \n",
    "such as year, month, day, and so on. \n",
    "Find the appropriate column based on dtype and set is as an index\n",
    "\n",
    "Add columns to the df with year, month, and weekday name USING the index attributes"
   ]
  },
  {
   "cell_type": "code",
   "execution_count": null,
   "metadata": {},
   "outputs": [],
   "source": []
  },
  {
   "cell_type": "markdown",
   "metadata": {},
   "source": [
    "Time based indexing -- show examples of \n",
    " - select data for a single day using a string such as '2017-08-10\n",
    " - select a slice of days\n",
    " - select based on a partial sting .. that is to say data from 2006 or entire month of Feb 2012"
   ]
  },
  {
   "cell_type": "code",
   "execution_count": null,
   "metadata": {},
   "outputs": [],
   "source": []
  },
  {
   "cell_type": "markdown",
   "metadata": {},
   "source": [
    "TimeSeries is a visual thing....\n",
    "Show a plot of the field 'Consumption' as it compares to 'Solar' and 'Wind'"
   ]
  },
  {
   "cell_type": "code",
   "execution_count": null,
   "metadata": {},
   "outputs": [],
   "source": []
  },
  {
   "cell_type": "markdown",
   "metadata": {},
   "source": [
    "As an example of 'seasonality'\n",
    "Use seaborn to show a 'Consumption' box plot with x-axis being weekday name"
   ]
  },
  {
   "cell_type": "code",
   "execution_count": null,
   "metadata": {},
   "outputs": [],
   "source": []
  },
  {
   "cell_type": "markdown",
   "metadata": {},
   "source": [
    "Looking at frequency.... Create a copy of the existing df as follows:\n",
    "    \n",
    "Select an arbitrary sequence of date/time values from a pandas time series,\n",
    "we need to use a DatetimeIndex, rather than simply a list of date/time strings\n",
    "as in:\n",
    "times_sample = pd.to_datetime(['2013-02-03', '2013-02-06', '2013-02-08'])\n",
    "\n",
    "Select the specified dates and just the Consumption column\n",
    "as in:\n",
    "consum_sample = opsd_daily.loc[times_sample, ['Consumption']].copy()\n",
    "consum_sample\n",
    "    \n",
    "    \n",
    "    \n",
    "Now, use the asfreq() method to convert the DataFrame to daily frequency, with a column for unfilled data, and a column for forward filled data."
   ]
  },
  {
   "cell_type": "code",
   "execution_count": null,
   "metadata": {},
   "outputs": [],
   "source": []
  },
  {
   "cell_type": "markdown",
   "metadata": {},
   "source": [
    "Looking at resampling:\n",
    "\n",
    "Resample our df to a weekly mean time series.\n",
    "Use the following columns ['Consumption', 'Wind', 'Solar', 'Wind+Solar']\n",
    "Compare the shape of the daily df to the new weekly mean df.... should be 1/7"
   ]
  },
  {
   "cell_type": "code",
   "execution_count": null,
   "metadata": {},
   "outputs": [],
   "source": []
  },
  {
   "cell_type": "code",
   "execution_count": null,
   "metadata": {},
   "outputs": [],
   "source": [
    "Rolling Windows\n",
    "\n",
    "Take the following code and show the graph which is the Daily as compared to the weekly mean resample"
   ]
  },
  {
   "cell_type": "code",
   "execution_count": null,
   "metadata": {},
   "outputs": [],
   "source": [
    "# Start and end of the date range to extract\n",
    "start, end = '2017-01', '2017-06'\n",
    "\n",
    "# Plot daily and weekly resampled time series together\n",
    "fig, ax = plt.subplots()\n",
    "\n",
    "ax.plot(opsd_daily.loc[start:end, 'Solar'],\n",
    "marker='.', linestyle='-', linewidth=0.5, label='Daily')\n",
    "\n",
    "ax.plot(opsd_weekly_mean.loc[start:end, 'Solar'],\n",
    "marker='o', markersize=8, linestyle='-', label='Weekly Mean Resample')\n",
    "\n",
    "ax.set_ylabel('Solar Production (GWh)')\n",
    "ax.legend();"
   ]
  },
  {
   "cell_type": "markdown",
   "metadata": {},
   "source": [
    "Using the above graph as a base --- create a 7 day rolling df from the daily df and add that df to the plot"
   ]
  },
  {
   "cell_type": "code",
   "execution_count": null,
   "metadata": {},
   "outputs": [],
   "source": []
  }
 ],
 "metadata": {
  "kernelspec": {
   "display_name": "Python 3",
   "language": "python",
   "name": "python3"
  },
  "language_info": {
   "codemirror_mode": {
    "name": "ipython",
    "version": 3
   },
   "file_extension": ".py",
   "mimetype": "text/x-python",
   "name": "python",
   "nbconvert_exporter": "python",
   "pygments_lexer": "ipython3",
   "version": "3.7.2"
  }
 },
 "nbformat": 4,
 "nbformat_minor": 2
}
