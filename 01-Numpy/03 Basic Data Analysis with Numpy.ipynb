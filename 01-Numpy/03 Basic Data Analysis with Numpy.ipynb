{
 "cells": [
  {
   "cell_type": "markdown",
   "metadata": {},
   "source": [
    "### Obtaining a dataset\n",
    "\n",
    "For this exercise we'll use a dataset from the Machine Learning Repository hosted by The University of California att Irvine. You can view the complete repository [here](https://archive.ics.uci.edu/ml/index.php). We'll be using the __Adult__ dataset, which contains information from the 1994 US census. The fields in the dataset are\n",
    "\n",
    "* age: continuous.\n",
    "* workclass: Private, Self-emp-not-inc, Self-emp-inc, Federal-gov, Local-gov, State-gov, Without-pay, Never-worked.\n",
    "* fnlwgt: continuous.\n",
    "* education: Bachelors, Some-college, 11th, HS-grad, Prof-school, Assoc-acdm, Assoc-voc, 9th, 7th-8th, 12th, Masters, 1st-4th, 10th, Doctorate, 5th-6th, Preschool.\n",
    "* education-num: continuous.\n",
    "* marital-status: Married-civ-spouse, Divorced, Never-married, Separated, Widowed, Married-spouse-absent, Married-AF-spouse.\n",
    "* occupation: Tech-support, Craft-repair, Other-service, Sales, Exec-managerial, Prof-specialty, Handlers-cleaners, Machine-op-inspct, Adm-clerical, Farming-fishing, Transport-moving, Priv-house-serv, Protective-serv, Armed-Forces.\n",
    "* relationship: Wife, Own-child, Husband, Not-in-family, Other-relative, Unmarried.\n",
    "* race: White, Asian-Pac-Islander, Amer-Indian-Eskimo, Other, Black.\n",
    "* sex: Female, Male.\n",
    "* capital-gain: continuous.\n",
    "* capital-loss: continuous.\n",
    "* hours-per-week: continuous.\n",
    "* native-country: United-States, Cambodia, England, Puerto-Rico, Canada, Germany, Outlying-US(Guam-USVI-etc), India, Japan, Greece, South, China, Cuba, Iran, Honduras, Philippines, Italy, Poland, Jamaica, Vietnam, Mexico, Portugal, Ireland, France, Dominican-Republic, Laos, Ecuador, Taiwan, Haiti, Columbia, Hungary, Guatemala, Nicaragua, Scotland, Thailand, Yugoslavia, El-Salvador, Trinadad&Tobago, Peru, Hong, Holand-Netherlands.\n",
    "* Income level: <=50K or >50K\n",
    "\n",
    "We can use this dataset to investigate and graph out various things, using Numpy and matplotlib."
   ]
  },
  {
   "cell_type": "code",
   "execution_count": 1,
   "metadata": {},
   "outputs": [
    {
     "name": "stdout",
     "output_type": "stream",
     "text": [
      "39, State-gov, 77516, Bachelors, 13, Never-married, Adm-clerical, Not-in-family, White, Male, 2174, \n"
     ]
    }
   ],
   "source": [
    "import numpy as np\n",
    "import requests\n",
    "import matplotlib.pyplot as plt\n",
    "from io import StringIO\n",
    "\n",
    "raw_data = requests.get('https://archive.ics.uci.edu/ml/machine-learning-databases/adult/adult.data').text\n",
    "print(raw_data[:100])\n"
   ]
  },
  {
   "cell_type": "markdown",
   "metadata": {},
   "source": [
    "The data is in CSV format. We can store this in a numpy matrix using the `loadtxt` method. This method, per the documentation, requires that the input be a filename, a generator, or a list of string. A generator or a list will work equally well here."
   ]
  },
  {
   "cell_type": "code",
   "execution_count": 2,
   "metadata": {},
   "outputs": [
    {
     "name": "stdout",
     "output_type": "stream",
     "text": [
      "(32561, 15)\n",
      "<U26\n",
      "<class 'numpy.ndarray'>\n",
      "<class 'numpy.ndarray'>\n",
      "['50' 'Self-emp-not-inc' '83311' 'Bachelors' '13' 'Married-civ-spouse'\n",
      " 'Exec-managerial' 'Husband' 'White' 'Male' '0' '0' '13' 'United-States'\n",
      " '<=50K']\n"
     ]
    }
   ],
   "source": [
    "raw_data = raw_data.replace(\", \", \",\")\n",
    "data = raw_data.split(\"\\n\")\n",
    "dataset = np.loadtxt(data, dtype=str, encoding=str, delimiter=',')\n",
    "print(dataset.shape)\n",
    "print(dataset.dtype)\n",
    "print(type(dataset))\n",
    "print(type(dataset[0]))\n",
    "print(dataset[1])"
   ]
  },
  {
   "cell_type": "markdown",
   "metadata": {},
   "source": [
    "### Analyzing the Data\n",
    "\n",
    "Now that we have the dataset we can begin our analysis. To start with, try counting the number of people with a bachelors degree (or higher) that have an income level above \\\\$50,000 and how many have an income level less than \\\\$50,000, and creating a simple bar chart illustrating the difference."
   ]
  },
  {
   "cell_type": "code",
   "execution_count": 3,
   "metadata": {},
   "outputs": [
    {
     "name": "stdout",
     "output_type": "stream",
     "text": [
      "['10th' '11th' '12th' '1st-4th' '5th-6th' '7th-8th' '9th' 'Assoc-acdm'\n",
      " 'Assoc-voc' 'Bachelors' 'Doctorate' 'HS-grad' 'Masters' 'Preschool'\n",
      " 'Prof-school' 'Some-college']\n"
     ]
    }
   ],
   "source": [
    "'''what are the unique education values - want to be able to determine level of education achieved'''\n",
    "degreeVals=[]\n",
    "for row in dataset:\n",
    "    degreeVals.append(row[3])\n",
    "    \n",
    "print(np.unique(degreeVals))"
   ]
  },
  {
   "cell_type": "code",
   "execution_count": 4,
   "metadata": {},
   "outputs": [
    {
     "name": "stdout",
     "output_type": "stream",
     "text": [
      "['<=50K' '>50K']\n"
     ]
    }
   ],
   "source": [
    "'''what are the unique income values'''\n",
    "incomeVals=[]\n",
    "for row in dataset:\n",
    "    incomeVals.append(row[14])\n",
    "    \n",
    "print(np.unique(incomeVals))"
   ]
  },
  {
   "cell_type": "code",
   "execution_count": 5,
   "metadata": {},
   "outputs": [
    {
     "name": "stdout",
     "output_type": "stream",
     "text": [
      "['Divorced' 'Married-AF-spouse' 'Married-civ-spouse'\n",
      " 'Married-spouse-absent' 'Never-married' 'Separated' 'Widowed']\n"
     ]
    }
   ],
   "source": [
    "'''what are the unique marital values'''\n",
    "maritalVals=[]\n",
    "for row in dataset:\n",
    "    maritalVals.append(row[5])\n",
    "    \n",
    "print(np.unique(maritalVals))"
   ]
  },
  {
   "cell_type": "code",
   "execution_count": 6,
   "metadata": {},
   "outputs": [],
   "source": [
    "def isBachelorOrAbove(education):\n",
    "    above = ['Bachelors','Doctorate','Masters']\n",
    "    if education in above:\n",
    "        return True\n",
    "    else:\n",
    "        return False"
   ]
  },
  {
   "cell_type": "code",
   "execution_count": 7,
   "metadata": {},
   "outputs": [
    {
     "name": "stdout",
     "output_type": "stream",
     "text": [
      "True\n",
      "False\n"
     ]
    }
   ],
   "source": [
    "''' is each unique value a bachelors or higher'''\n",
    "val = isBachelorOrAbove('Doctorate')\n",
    "print(val)\n",
    "val = isBachelorOrAbove('5th-6th')\n",
    "print(val)"
   ]
  },
  {
   "cell_type": "code",
   "execution_count": 8,
   "metadata": {},
   "outputs": [],
   "source": [
    "def isMarried(status):\n",
    "    married = ['Married-AF-spouse','Married-civ-spouse','Married-spouse-absent']\n",
    "    if status in married:\n",
    "        return True\n",
    "    else:\n",
    "        return False"
   ]
  },
  {
   "cell_type": "code",
   "execution_count": 9,
   "metadata": {},
   "outputs": [
    {
     "name": "stdout",
     "output_type": "stream",
     "text": [
      "True\n",
      "True\n",
      "False\n"
     ]
    }
   ],
   "source": [
    "''' is each unique value Married'''\n",
    "print(isMarried('Married-spouse-absent'))\n",
    "val = isMarried('Married-spouse-absent')\n",
    "print(val)\n",
    "print(isMarried('Widowed'))"
   ]
  },
  {
   "cell_type": "code",
   "execution_count": 13,
   "metadata": {},
   "outputs": [
    {
     "name": "stdout",
     "output_type": "stream",
     "text": [
      "3486 Bachelor or better making more than 50k\n",
      "4005 Bachelor or better making 50k or less\n",
      "4355 less than Bachelor making more than 50k\n",
      "20715 less than Bachelor making 50k or less\n",
      "32561\n",
      "32561\n"
     ]
    },
    {
     "data": {
      "image/png": "[encoded data removed]",
      "text/plain": [
       "<Figure size 432x288 with 1 Axes>"
      ]
     },
     "metadata": {
      "needs_background": "light"
     },
     "output_type": "display_data"
    }
   ],
   "source": [
    "'''Set vals for the analysis'''\n",
    "bachelorAbove50k = 0 #count education bachelor or above making more than 50k\n",
    "bachelorBelow50k = 0 #count education bachelor or above making less than 50k\n",
    "noBachelorAbove50k = 0 #count education less than bachelor making more than 50k\n",
    "noBachelorBelow50k = 0 #count education less than bachelor making less than 50k\n",
    "marriedBachelorAbove50k = 0 #count education bachelor or above making more than 50k\n",
    "marriedBachelorBelow50k = 0 #count education bachelor or above making less than 50k\n",
    "marriedNoBachelorAbove50k = 0 #count education less than bachelor making more than 50k\n",
    "marriedNoBachelorBelow50k = 0 #count education less than bachelor making less than 50k\n",
    "occupation = [] #saving for later analyis\n",
    "\n",
    "totalRows = 0\n",
    "isMarriedVal = False\n",
    "for row in dataset:\n",
    "    totalRows+=1\n",
    "    isMarriedVal=isMarried(row[5])\n",
    "    if isBachelorOrAbove(row[3]):\n",
    "        if row[14] == '>50K':\n",
    "            bachelorAbove50k+=1\n",
    "            if isMarriedVal:\n",
    "                marriedBachelorAbove50k+=1\n",
    "            occupation.append(row[1])\n",
    "        else:\n",
    "            bachelorBelow50k+=1\n",
    "            if isMarriedVal:\n",
    "                marriedBachelorBelow50k+=1\n",
    "            \n",
    "    else:\n",
    "        if row[14] == '>50K':\n",
    "            noBachelorAbove50k+=1\n",
    "            if isMarriedVal:\n",
    "                marriedNoBachelorAbove50k+=1\n",
    "        else:\n",
    "            noBachelorBelow50k+=1\n",
    "            if isMarriedVal:\n",
    "                marriedNoBachelorBelow50k+=1\n",
    "        \n",
    "print(str(bachelorAbove50k) + ' Bachelor or better making more than 50k')\n",
    "print(str(bachelorBelow50k) + ' Bachelor or better making 50k or less')\n",
    "print(str(noBachelorAbove50k) + ' less than Bachelor making more than 50k')\n",
    "print(str(noBachelorBelow50k) + ' less than Bachelor making 50k or less')\n",
    "assert((bachelorAbove50k + bachelorBelow50k + noBachelorAbove50k + noBachelorBelow50k) == totalRows)\n",
    "print(bachelorAbove50k + bachelorBelow50k + noBachelorAbove50k + noBachelorBelow50k)\n",
    "print(totalRows)\n",
    "\n",
    "education = ('Bachelor Making >50K', 'Bachelor Making <= 50K', 'Less Than Bachelor Making >50K', 'Less Than Bachelor Making <=50K')\n",
    "y_pos = np.arange(len(education))\n",
    "performance = [bachelorAbove50k,bachelorBelow50k,noBachelorAbove50k,noBachelorBelow50k]\n",
    " \n",
    "plt.barh(y_pos, performance, align='center', alpha=0.5)\n",
    "plt.yticks(y_pos, education)\n",
    "plt.xlabel('Count')\n",
    "plt.title('Salary as a factor of Education')\n",
    " \n",
    "plt.show()\n",
    "            \n",
    "            \n",
    "\n",
    "\n",
    "\n",
    "\n"
   ]
  },
  {
   "cell_type": "markdown",
   "metadata": {},
   "source": [
    "Next, determine which of the occupations is the most likely to net you more than \\\\$50,000 a year, and graph the results\n"
   ]
  },
  {
   "cell_type": "code",
   "execution_count": 11,
   "metadata": {},
   "outputs": [
    {
     "name": "stdout",
     "output_type": "stream",
     "text": [
      "['?' 'Federal-gov' 'Local-gov' 'Private' 'Self-emp-inc' 'Self-emp-not-inc'\n",
      " 'State-gov']\n"
     ]
    }
   ],
   "source": [
    "print(np.unique(occupation))"
   ]
  },
  {
   "cell_type": "markdown",
   "metadata": {},
   "source": [
    "Finally, determine whether marital status is a significant factor in determining income level"
   ]
  },
  {
   "cell_type": "code",
   "execution_count": 12,
   "metadata": {},
   "outputs": [
    {
     "data": {
      "image/png": "[encoded data removed]",
      "text/plain": [
       "<Figure size 432x288 with 1 Axes>"
      ]
     },
     "metadata": {
      "needs_background": "light"
     },
     "output_type": "display_data"
    }
   ],
   "source": [
    "\n",
    "education = ('Bachelor Making >50K', 'Bachelor Making <= 50K', 'Less Than Bachelor Making >50K', 'Less Than Bachelor Making <=50K')\n",
    "y_pos = np.arange(len(education))\n",
    "performance = [marriedBachelorAbove50k,marriedBachelorBelow50k,marriedNoBachelorAbove50k,marriedNoBachelorBelow50k]\n",
    " \n",
    "plt.barh(y_pos, performance, align='center', alpha=0.5)\n",
    "plt.yticks(y_pos, education)\n",
    "plt.xlabel('Count')\n",
    "plt.title('Salary as a factor of Marriage')\n",
    " \n",
    "plt.show()"
   ]
  },
  {
   "cell_type": "code",
   "execution_count": null,
   "metadata": {},
   "outputs": [],
   "source": []
  }
 ],
 "metadata": {
  "kernelspec": {
   "display_name": "Python 3",
   "language": "python",
   "name": "python3"
  },
  "language_info": {
   "codemirror_mode": {
    "name": "ipython",
    "version": 3
   },
   "file_extension": ".py",
   "mimetype": "text/x-python",
   "name": "python",
   "nbconvert_exporter": "python",
   "pygments_lexer": "ipython3",
   "version": "3.7.2"
  }
 },
 "nbformat": 4,
 "nbformat_minor": 2
}
